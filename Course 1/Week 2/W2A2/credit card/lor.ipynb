{
 "cells": [
  {
   "cell_type": "code",
   "execution_count": 9,
   "metadata": {},
   "outputs": [],
   "source": [
    "import numpy as np\n",
    "from tqdm import tqdm\n",
    "\n",
    "class LogisticRegression:\n",
    "    def __init__(self, num_iterations=2000, learning_rate=0.5):\n",
    "        self.num_iterations = num_iterations\n",
    "        self.learning_rate = learning_rate\n",
    "        self.w = None\n",
    "        self.b = None\n",
    "\n",
    "    def sigmoid(self, z):\n",
    "        return 1 / (1 + np.exp(-z))\n",
    "\n",
    "    def initialize_parameters(self, dim):\n",
    "        self.w = np.zeros((dim, 1))\n",
    "        self.b = 0\n",
    "\n",
    "    def propagate(self, X, Y):\n",
    "        m = X.shape[1]\n",
    "        \n",
    "        A = self.sigmoid(np.dot(self.w.T, X) + self.b)\n",
    "        cost = -1/m * np.sum(Y * np.log(A) + (1 - Y) * np.log(1 - A))\n",
    "        \n",
    "        dw = 1/m * np.dot(X, (A - Y).T)\n",
    "        db = 1/m * np.sum(A - Y)\n",
    "        \n",
    "        return dw, db, cost\n",
    "\n",
    "    def optimize(self, X, Y):\n",
    "        costs = []\n",
    "        \n",
    "        for i in tqdm(range(self.num_iterations), desc=\"Training\"):\n",
    "            dw, db, cost = self.propagate(X, Y)\n",
    "            \n",
    "            self.w -= self.learning_rate * dw\n",
    "            self.b -= self.learning_rate * db\n",
    "            \n",
    "            if i % 100 == 0:\n",
    "                costs.append(cost)\n",
    "        \n",
    "        return costs\n",
    "\n",
    "    def predict(self, X):\n",
    "        m = X.shape[1]\n",
    "        Y_prediction = np.zeros((1, m))\n",
    "        A = self.sigmoid(np.dot(self.w.T, X) + self.b)\n",
    "        \n",
    "        Y_prediction = (A > 0.5).astype(int)\n",
    "        \n",
    "        return Y_prediction\n",
    "\n",
    "    def fit(self, X_train, Y_train):\n",
    "        self.initialize_parameters(X_train.shape[0])\n",
    "        costs = self.optimize(X_train, Y_train)\n",
    "        return costs\n",
    "\n",
    "    def score(self, X, Y):\n",
    "        Y_prediction = self.predict(X)\n",
    "        accuracy = 1 - np.mean(np.abs(Y_prediction - Y))\n",
    "        return accuracy\n"
   ]
  },
  {
   "cell_type": "code",
   "execution_count": 10,
   "metadata": {},
   "outputs": [],
   "source": [
    "import pandas as pd\n",
    "from sklearn.model_selection import train_test_split\n",
    "from sklearn.preprocessing import StandardScaler\n",
    "\n",
    "# Load the dataset\n",
    "df = pd.read_csv('/Users/mohandesigan/Documents/coding/AI/DL-andrew-ng-nbs-/Course 1/Week 2/W2A2/datasets/creditcard.csv')\n",
    "\n",
    "# Separate features and target\n",
    "X = df.drop('Class', axis=1)\n",
    "y = df['Class']\n",
    "\n"
   ]
  },
  {
   "cell_type": "code",
   "execution_count": 11,
   "metadata": {},
   "outputs": [],
   "source": [
    "# Preprocess: Scale the features\n",
    "scaler = StandardScaler()\n",
    "X_scaled = scaler.fit_transform(X)\n",
    "\n",
    "# Split the data\n",
    "X_train, X_test, y_train, y_test = train_test_split(X_scaled, y, test_size=0.2, random_state=42)\n",
    "\n"
   ]
  },
  {
   "cell_type": "code",
   "execution_count": 12,
   "metadata": {},
   "outputs": [
    {
     "name": "stderr",
     "output_type": "stream",
     "text": [
      "Training: 100%|██████████| 5000/5000 [00:45<00:00, 110.02it/s]\n"
     ]
    }
   ],
   "source": [
    "# Create and train the model\n",
    "model = LogisticRegression(num_iterations=5000, learning_rate=0.01)\n",
    "costs = model.fit(X_train.T, y_train.values.reshape(1, -1))\n",
    "\n"
   ]
  },
  {
   "cell_type": "code",
   "execution_count": 13,
   "metadata": {},
   "outputs": [
    {
     "name": "stdout",
     "output_type": "stream",
     "text": [
      "Credit Card Fraud Detection - Train accuracy: 0.9990300423533542\n",
      "Credit Card Fraud Detection - Test accuracy: 0.9990168884519505\n"
     ]
    }
   ],
   "source": [
    "# Evaluate the model\n",
    "train_accuracy = model.score(X_train.T, y_train.values.reshape(1, -1))\n",
    "test_accuracy = model.score(X_test.T, y_test.values.reshape(1, -1))\n",
    "\n",
    "print(f\"Credit Card Fraud Detection - Train accuracy: {train_accuracy}\")\n",
    "print(f\"Credit Card Fraud Detection - Test accuracy: {test_accuracy}\")\n"
   ]
  },
  {
   "cell_type": "code",
   "execution_count": null,
   "metadata": {},
   "outputs": [],
   "source": []
  }
 ],
 "metadata": {
  "kernelspec": {
   "display_name": "Python 3",
   "language": "python",
   "name": "python3"
  },
  "language_info": {
   "codemirror_mode": {
    "name": "ipython",
    "version": 3
   },
   "file_extension": ".py",
   "mimetype": "text/x-python",
   "name": "python",
   "nbconvert_exporter": "python",
   "pygments_lexer": "ipython3",
   "version": "3.9.6"
  }
 },
 "nbformat": 4,
 "nbformat_minor": 2
}
