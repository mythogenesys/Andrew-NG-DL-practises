{
 "cells": [
  {
   "cell_type": "code",
   "execution_count": 1,
   "metadata": {},
   "outputs": [],
   "source": [
    "import numpy as np\n",
    "import pandas as pd\n",
    "from titanic_utils import LogisticRegression, load_and_split_data\n",
    "\n",
    "# Load and split the data\n",
    "X_train, X_test, y_train, y_test = load_and_split_data('/Users/mohandesigan/Documents/coding/AI/DL-andrew-ng-nbs-/Course 1/Week 2/W2A2/datasets/train.csv')\n",
    "\n"
   ]
  },
  {
   "cell_type": "code",
   "execution_count": 2,
   "metadata": {},
   "outputs": [
    {
     "name": "stderr",
     "output_type": "stream",
     "text": [
      "Training:   0%|          | 0/10000 [00:00<?, ?it/s]"
     ]
    },
    {
     "name": "stderr",
     "output_type": "stream",
     "text": [
      "Training: 100%|██████████| 10000/10000 [00:00<00:00, 23216.97it/s]"
     ]
    },
    {
     "name": "stdout",
     "output_type": "stream",
     "text": [
      "Titanic Survival Prediction - Train accuracy: 0.8356741573033708\n",
      "Titanic Survival Prediction - Test accuracy: 0.8100558659217877\n"
     ]
    },
    {
     "name": "stderr",
     "output_type": "stream",
     "text": [
      "\n"
     ]
    }
   ],
   "source": [
    "# Train and evaluate\n",
    "model = LogisticRegression(num_iterations=10000, learning_rate=0.005, is_adam=False, is_earlystopping=False)\n",
    "costs, train_accuracies, val_accuracies = model.fit(X_train.T, y_train.values.reshape(1, -1), X_test.T, y_test.values.reshape(1, -1))\n",
    "\n",
    "# Calculate accuracies\n",
    "train_accuracy = model.score(X_train.T, y_train.values.reshape(1, -1))\n",
    "test_accuracy = model.score(X_test.T, y_test.values.reshape(1, -1))\n",
    "\n",
    "print(f\"Titanic Survival Prediction - Train accuracy: {train_accuracy}\")\n",
    "print(f\"Titanic Survival Prediction - Test accuracy: {test_accuracy}\")\n",
    "\n",
    "import numpy as np\n",
    "import pandas as pd\n",
    "import matplotlib.pyplot as plt\n",
    "from titanic_utils import LogisticRegression, load_and_split_data\n",
    "\n",
    "# Load and split the data\n",
    "X_train, X_test, y_train, y_test = load_and_split_data('/path/to/your/train.csv')\n",
    "\n",
    "# Create and train the model\n",
    "model = LogisticRegression(num_iterations=5000, learning_rate=0.001, is_adam=True, is_earlystopping=True)\n",
    "costs, train_accuracies, val_accuracies = model.fit(X_train.T, y_train.values.reshape(1, -1), X_test.T, y_test.values.reshape(1, -1))\n",
    "\n",
    "# Evaluate the model\n",
    "train_accuracy = model.score(X_train.T, y_train.values.reshape(1, -1))\n",
    "test_accuracy = model.score(X_test.T, y_test.values.reshape(1, -1))\n",
    "\n",
    "print(f\"Train accuracy: {train_accuracy}\")\n",
    "print(f\"Test accuracy: {test_accuracy}\")\n",
    "\n",
    "# Plot the cost over iterations\n",
    "plt.figure(figsize=(10, 5))\n",
    "plt.plot(costs)\n",
    "plt.title('Cost over iterations')\n",
    "plt.xlabel('Iterations (x100)')\n",
    "plt.ylabel('Cost')\n",
    "plt.show()\n",
    "\n",
    "# Plot the accuracies over iterations\n",
    "plt.figure(figsize=(10, 5))\n",
    "plt.plot(train_accuracies, label='Train Accuracy')\n",
    "plt.plot(val_accuracies, label='Validation Accuracy')\n",
    "plt.title('Accuracy over iterations')\n",
    "plt.xlabel('Iterations (x100)')\n",
    "plt.ylabel('Accuracy')\n",
    "plt.legend()\n",
    "plt.show()\n"
   ]
  },
  {
   "cell_type": "code",
   "execution_count": null,
   "metadata": {},
   "outputs": [],
   "source": []
  }
 ],
 "metadata": {
  "kernelspec": {
   "display_name": "Python 3",
   "language": "python",
   "name": "python3"
  },
  "language_info": {
   "codemirror_mode": {
    "name": "ipython",
    "version": 3
   },
   "file_extension": ".py",
   "mimetype": "text/x-python",
   "name": "python",
   "nbconvert_exporter": "python",
   "pygments_lexer": "ipython3",
   "version": "3.9.6"
  }
 },
 "nbformat": 4,
 "nbformat_minor": 2
}
