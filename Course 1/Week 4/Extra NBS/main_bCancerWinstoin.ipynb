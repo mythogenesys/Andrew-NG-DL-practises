{
 "cells": [
  {
   "cell_type": "code",
   "execution_count": 1,
   "metadata": {},
   "outputs": [],
   "source": [
    "import pandas as pd\n",
    "\n",
    "# Load the dataset\n",
    "url = 'https://archive.ics.uci.edu/ml/machine-learning-databases/breast-cancer-wisconsin/wdbc.data'\n",
    "column_names = ['ID', 'Diagnosis'] + [f'feature_{i}' for i in range(1, 31)]\n",
    "data = pd.read_csv(url, header=None, names=column_names)\n",
    "\n",
    "# Drop the ID column as it's not useful for the model\n",
    "data.drop('ID', axis=1, inplace=True)\n"
   ]
  },
  {
   "cell_type": "code",
   "execution_count": 2,
   "metadata": {},
   "outputs": [],
   "source": [
    "from sklearn.model_selection import train_test_split\n",
    "from sklearn.preprocessing import StandardScaler, LabelEncoder\n",
    "\n",
    "# Encode the target variable\n",
    "label_encoder = LabelEncoder()\n",
    "data['Diagnosis'] = label_encoder.fit_transform(data['Diagnosis'])\n",
    "\n",
    "# Split features and target\n",
    "X = data.drop('Diagnosis', axis=1).values\n",
    "Y = data['Diagnosis'].values.reshape(1, -1)\n",
    "\n",
    "# Split into training and test sets\n",
    "X_train, X_test, Y_train, Y_test = train_test_split(X, Y.T, test_size=0.2, random_state=1)\n"
   ]
  },
  {
   "cell_type": "code",
   "execution_count": 3,
   "metadata": {},
   "outputs": [],
   "source": [
    "# Normalize the data\n",
    "scaler = StandardScaler()\n",
    "X_train = scaler.fit_transform(X_train).T\n",
    "X_test = scaler.transform(X_test).T\n"
   ]
  },
  {
   "cell_type": "code",
   "execution_count": 4,
   "metadata": {},
   "outputs": [
    {
     "name": "stdout",
     "output_type": "stream",
     "text": [
      "Cost after iteration 0: 0.6931429371780813\n",
      "Cost after iteration 100: 0.6831340584606894\n",
      "Cost after iteration 200: 0.6762564408806359\n",
      "Cost after iteration 300: 0.6715212316790682\n",
      "Cost after iteration 400: 0.668253910788261\n",
      "Cost after iteration 500: 0.6659941941146602\n",
      "Cost after iteration 600: 0.6644276503529021\n",
      "Cost after iteration 700: 0.6633390971705494\n",
      "Cost after iteration 800: 0.6625809154122346\n",
      "Cost after iteration 900: 0.6620515554950178\n",
      "Cost after iteration 1000: 0.6616809666398035\n",
      "Cost after iteration 1100: 0.6614206909309853\n",
      "Cost after iteration 1200: 0.6612371460838903\n",
      "Cost after iteration 1300: 0.6611069926861264\n",
      "Cost after iteration 1400: 0.6610139846928905\n",
      "Cost after iteration 1500: 0.6609467328018039\n",
      "Cost after iteration 1600: 0.6608972862907662\n",
      "Cost after iteration 1700: 0.6608600914974896\n",
      "Cost after iteration 1800: 0.660831101028124\n",
      "Cost after iteration 1900: 0.6608075777400757\n",
      "Cost after iteration 2000: 0.6607875793555544\n",
      "Cost after iteration 2100: 0.6607696014182056\n",
      "Cost after iteration 2200: 0.6607526360132582\n",
      "Cost after iteration 2300: 0.6607358187103508\n",
      "Cost after iteration 2400: 0.6607185811097355\n",
      "Cost after iteration 2500: 0.6607002871069568\n",
      "Cost after iteration 2600: 0.6606805426894258\n",
      "Cost after iteration 2700: 0.6606587127785762\n",
      "Cost after iteration 2800: 0.6606344763761549\n",
      "Cost after iteration 2900: 0.6606070666884358\n",
      "Cost after iteration 2999: 0.6605764952521275\n"
     ]
    }
   ],
   "source": [
    "from cleaned_nn import DeepNeuralNetwork\n",
    "\n",
    "# Define the layer dimensions (input layer size should match the number of features)\n",
    "layer_dims = [30, 20, 10, 1]  # Example architecture\n",
    "\n",
    "# Initialize and train the model\n",
    "model = DeepNeuralNetwork(layer_dims, learning_rate=0.0075, num_iterations=3000, print_cost=True)\n",
    "parameters, costs = model.fit(X_train, Y_train.T)\n"
   ]
  },
  {
   "cell_type": "code",
   "execution_count": 5,
   "metadata": {},
   "outputs": [
    {
     "name": "stdout",
     "output_type": "stream",
     "text": [
      "Test Accuracy: 0.631578947368421\n"
     ]
    }
   ],
   "source": [
    "import numpy as np\n",
    "\n",
    "# Forward propagation on the test set\n",
    "AL_test, _ = model.L_model_forward(X_test)\n",
    "\n",
    "# Convert probabilities to binary predictions\n",
    "predictions = (AL_test > 0.5).astype(int)\n",
    "\n",
    "# Calculate accuracy\n",
    "accuracy = np.mean(predictions == Y_test)\n",
    "\n",
    "print(f\"Test Accuracy: {accuracy}\")\n"
   ]
  },
  {
   "cell_type": "code",
   "execution_count": null,
   "metadata": {},
   "outputs": [],
   "source": []
  }
 ],
 "metadata": {
  "kernelspec": {
   "display_name": "Python 3 (ipykernel)",
   "language": "python",
   "name": "python3"
  },
  "language_info": {
   "codemirror_mode": {
    "name": "ipython",
    "version": 3
   },
   "file_extension": ".py",
   "mimetype": "text/x-python",
   "name": "python",
   "nbconvert_exporter": "python",
   "pygments_lexer": "ipython3",
   "version": "3.9.6"
  }
 },
 "nbformat": 4,
 "nbformat_minor": 4
}
