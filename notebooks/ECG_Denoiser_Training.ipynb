{
  "nbformat": 4,
  "nbformat_minor": 0,
  "metadata": {
    "colab": {
      "provenance": [],
      "gpuType": "T4",
      "include_colab_link": true
    },
    "kernelspec": {
      "name": "python3",
      "display_name": "Python 3"
    },
    "language_info": {
      "name": "python"
    },
    "accelerator": "GPU"
  },
  "cells": [
    {
      "cell_type": "markdown",
      "metadata": {
        "id": "view-in-github",
        "colab_type": "text"
      },
      "source": [
        "<a href=\"https://colab.research.google.com/github/mythogenesys/Andrew-NG-DL-practises/blob/main/notebooks/ECG_Denoiser_Training.ipynb\" target=\"_parent\"><img src=\"https://colab.research.google.com/assets/colab-badge.svg\" alt=\"Open In Colab\"/></a>"
      ]
    },
    {
      "cell_type": "code",
      "execution_count": null,
      "metadata": {
        "colab": {
          "base_uri": "https://localhost:8080/"
        },
        "id": "MPs-R4bvfz5K",
        "outputId": "4ef52083-9832-4493-dc10-31ffa30445f6"
      },
      "outputs": [
        {
          "output_type": "stream",
          "name": "stdout",
          "text": [
            "Drive already mounted at /content/drive; to attempt to forcibly remount, call drive.mount(\"/content/drive\", force_remount=True).\n",
            "✅ Google Drive mounted successfully.\n"
          ]
        }
      ],
      "source": [
        "# Cell 1: Mount Google Drive\n",
        "from google.colab import drive\n",
        "drive.mount('/content/drive')\n",
        "print(\"✅ Google Drive mounted successfully.\")"
      ]
    },
    {
      "cell_type": "code",
      "source": [
        "!ls"
      ],
      "metadata": {
        "colab": {
          "base_uri": "https://localhost:8080/"
        },
        "id": "m9OcBMzwheML",
        "outputId": "93299cc9-ac15-4d3b-9749-37be506392e4"
      },
      "execution_count": null,
      "outputs": [
        {
          "output_type": "stream",
          "name": "stdout",
          "text": [
            "ecg_sample_plot.png  noisy_clean_pair_example.png  requirements.txt  src\n"
          ]
        }
      ]
    },
    {
      "cell_type": "code",
      "source": [
        "# Cell 2: Clone the project repository from GitHub (CORRECTED)\n",
        "# IMPORTANT: Replace <Your-GitHub-Username> with your actual username!\n",
        "GIT_USERNAME = \"Mohan-CAS-and-hackathons\" # I got this from your screenshot\n",
        "GIT_REPO = \"ecg-denoiser-hackathon\"\n",
        "# CORRECTED LINE: The f-string is now formatted correctly for an HTTPS URL.\n",
        "GIT_PATH = f\"https://github.com/{GIT_USERNAME}/{GIT_REPO}.git\"\n",
        "\n",
        "# The '!' tells Colab to run this as a shell command\n",
        "!git clone {GIT_PATH}\n",
        "\n",
        "# Verify that the folder now exists\n",
        "!ls"
      ],
      "metadata": {
        "colab": {
          "base_uri": "https://localhost:8080/"
        },
        "id": "AC-1FzFvgrQT",
        "outputId": "fbd5cd8d-8a57-4201-a8ad-92b0161a798c"
      },
      "execution_count": null,
      "outputs": [
        {
          "output_type": "stream",
          "name": "stdout",
          "text": [
            "Cloning into 'ecg-denoiser-hackathon'...\n",
            "remote: Enumerating objects: 20, done.\u001b[K\n",
            "remote: Counting objects: 100% (20/20), done.\u001b[K\n",
            "remote: Compressing objects: 100% (17/17), done.\u001b[K\n",
            "remote: Total 20 (delta 5), reused 17 (delta 2), pack-reused 0 (from 0)\u001b[K\n",
            "Receiving objects: 100% (20/20), 162.49 KiB | 10.83 MiB/s, done.\n",
            "Resolving deltas: 100% (5/5), done.\n",
            "ecg-denoiser-hackathon\tnoisy_clean_pair_example.png  src\n",
            "ecg_sample_plot.png\trequirements.txt\n"
          ]
        }
      ]
    },
    {
      "cell_type": "code",
      "source": [
        "!ls"
      ],
      "metadata": {
        "colab": {
          "base_uri": "https://localhost:8080/"
        },
        "id": "0czEVjlzhglC",
        "outputId": "457796ea-343d-4fb8-e289-6cb5fa267acc"
      },
      "execution_count": null,
      "outputs": [
        {
          "output_type": "stream",
          "name": "stdout",
          "text": [
            "ecg-denoiser-hackathon\tnoisy_clean_pair_example.png  src\n",
            "ecg_sample_plot.png\trequirements.txt\n"
          ]
        }
      ]
    },
    {
      "cell_type": "code",
      "source": [
        "# Cell 3: Install project dependencies (No changes, but will now work)\n",
        "import os\n",
        "\n",
        "# The name of the folder git creates is the repo name\n",
        "REPO_DIR = \"ecg-denoiser-hackathon\"\n",
        "os.chdir(REPO_DIR)\n",
        "\n",
        "print(f\"Successfully changed directory to: {os.getcwd()}\")\n",
        "\n",
        "# Now install dependencies from within the correct directory\n",
        "!pip install -r requirements.txt\n",
        "print(\"✅ All dependencies installed.\")"
      ],
      "metadata": {
        "colab": {
          "base_uri": "https://localhost:8080/"
        },
        "id": "3utpo0mUg1Rp",
        "outputId": "ec5548f4-fb64-44f3-9e71-ec32b9431095"
      },
      "execution_count": null,
      "outputs": [
        {
          "output_type": "stream",
          "name": "stdout",
          "text": [
            "Successfully changed directory to: /content/ecg-denoiser-hackathon\n",
            "\u001b[33mWARNING: Ignoring invalid distribution ~andas (/usr/local/lib/python3.12/dist-packages)\u001b[0m\u001b[33m\n",
            "\u001b[0mRequirement already satisfied: torch in /usr/local/lib/python3.12/dist-packages (from -r requirements.txt (line 2)) (2.8.0+cu126)\n",
            "Requirement already satisfied: numpy in /usr/local/lib/python3.12/dist-packages (from -r requirements.txt (line 3)) (2.3.3)\n",
            "Requirement already satisfied: scipy in /usr/local/lib/python3.12/dist-packages (from -r requirements.txt (line 4)) (1.16.1)\n",
            "Collecting pandas==2.2.2 (from -r requirements.txt (line 5))\n",
            "  Using cached pandas-2.2.2-cp312-cp312-manylinux_2_17_x86_64.manylinux2014_x86_64.whl.metadata (19 kB)\n",
            "Requirement already satisfied: matplotlib in /usr/local/lib/python3.12/dist-packages (from -r requirements.txt (line 8)) (3.10.0)\n",
            "Requirement already satisfied: wfdb in /usr/local/lib/python3.12/dist-packages (from -r requirements.txt (line 11)) (4.3.0)\n",
            "Requirement already satisfied: streamlit in /usr/local/lib/python3.12/dist-packages (from -r requirements.txt (line 14)) (1.49.1)\n",
            "Requirement already satisfied: python-dateutil>=2.8.2 in /usr/local/lib/python3.12/dist-packages (from pandas==2.2.2->-r requirements.txt (line 5)) (2.9.0.post0)\n",
            "Requirement already satisfied: pytz>=2020.1 in /usr/local/lib/python3.12/dist-packages (from pandas==2.2.2->-r requirements.txt (line 5)) (2025.2)\n",
            "Requirement already satisfied: tzdata>=2022.7 in /usr/local/lib/python3.12/dist-packages (from pandas==2.2.2->-r requirements.txt (line 5)) (2025.2)\n",
            "Requirement already satisfied: filelock in /usr/local/lib/python3.12/dist-packages (from torch->-r requirements.txt (line 2)) (3.19.1)\n",
            "Requirement already satisfied: typing-extensions>=4.10.0 in /usr/local/lib/python3.12/dist-packages (from torch->-r requirements.txt (line 2)) (4.15.0)\n",
            "Requirement already satisfied: setuptools in /usr/local/lib/python3.12/dist-packages (from torch->-r requirements.txt (line 2)) (75.2.0)\n",
            "Requirement already satisfied: sympy>=1.13.3 in /usr/local/lib/python3.12/dist-packages (from torch->-r requirements.txt (line 2)) (1.13.3)\n",
            "Requirement already satisfied: networkx in /usr/local/lib/python3.12/dist-packages (from torch->-r requirements.txt (line 2)) (3.5)\n",
            "Requirement already satisfied: jinja2 in /usr/local/lib/python3.12/dist-packages (from torch->-r requirements.txt (line 2)) (3.1.6)\n",
            "Requirement already satisfied: fsspec in /usr/local/lib/python3.12/dist-packages (from torch->-r requirements.txt (line 2)) (2025.3.0)\n",
            "Requirement already satisfied: nvidia-cuda-nvrtc-cu12==12.6.77 in /usr/local/lib/python3.12/dist-packages (from torch->-r requirements.txt (line 2)) (12.6.77)\n",
            "Requirement already satisfied: nvidia-cuda-runtime-cu12==12.6.77 in /usr/local/lib/python3.12/dist-packages (from torch->-r requirements.txt (line 2)) (12.6.77)\n",
            "Requirement already satisfied: nvidia-cuda-cupti-cu12==12.6.80 in /usr/local/lib/python3.12/dist-packages (from torch->-r requirements.txt (line 2)) (12.6.80)\n",
            "Requirement already satisfied: nvidia-cudnn-cu12==9.10.2.21 in /usr/local/lib/python3.12/dist-packages (from torch->-r requirements.txt (line 2)) (9.10.2.21)\n",
            "Requirement already satisfied: nvidia-cublas-cu12==12.6.4.1 in /usr/local/lib/python3.12/dist-packages (from torch->-r requirements.txt (line 2)) (12.6.4.1)\n",
            "Requirement already satisfied: nvidia-cufft-cu12==11.3.0.4 in /usr/local/lib/python3.12/dist-packages (from torch->-r requirements.txt (line 2)) (11.3.0.4)\n",
            "Requirement already satisfied: nvidia-curand-cu12==10.3.7.77 in /usr/local/lib/python3.12/dist-packages (from torch->-r requirements.txt (line 2)) (10.3.7.77)\n",
            "Requirement already satisfied: nvidia-cusolver-cu12==11.7.1.2 in /usr/local/lib/python3.12/dist-packages (from torch->-r requirements.txt (line 2)) (11.7.1.2)\n",
            "Requirement already satisfied: nvidia-cusparse-cu12==12.5.4.2 in /usr/local/lib/python3.12/dist-packages (from torch->-r requirements.txt (line 2)) (12.5.4.2)\n",
            "Requirement already satisfied: nvidia-cusparselt-cu12==0.7.1 in /usr/local/lib/python3.12/dist-packages (from torch->-r requirements.txt (line 2)) (0.7.1)\n",
            "Requirement already satisfied: nvidia-nccl-cu12==2.27.3 in /usr/local/lib/python3.12/dist-packages (from torch->-r requirements.txt (line 2)) (2.27.3)\n",
            "Requirement already satisfied: nvidia-nvtx-cu12==12.6.77 in /usr/local/lib/python3.12/dist-packages (from torch->-r requirements.txt (line 2)) (12.6.77)\n",
            "Requirement already satisfied: nvidia-nvjitlink-cu12==12.6.85 in /usr/local/lib/python3.12/dist-packages (from torch->-r requirements.txt (line 2)) (12.6.85)\n",
            "Requirement already satisfied: nvidia-cufile-cu12==1.11.1.6 in /usr/local/lib/python3.12/dist-packages (from torch->-r requirements.txt (line 2)) (1.11.1.6)\n",
            "Requirement already satisfied: triton==3.4.0 in /usr/local/lib/python3.12/dist-packages (from torch->-r requirements.txt (line 2)) (3.4.0)\n",
            "Requirement already satisfied: contourpy>=1.0.1 in /usr/local/lib/python3.12/dist-packages (from matplotlib->-r requirements.txt (line 8)) (1.3.3)\n",
            "Requirement already satisfied: cycler>=0.10 in /usr/local/lib/python3.12/dist-packages (from matplotlib->-r requirements.txt (line 8)) (0.12.1)\n",
            "Requirement already satisfied: fonttools>=4.22.0 in /usr/local/lib/python3.12/dist-packages (from matplotlib->-r requirements.txt (line 8)) (4.59.2)\n",
            "Requirement already satisfied: kiwisolver>=1.3.1 in /usr/local/lib/python3.12/dist-packages (from matplotlib->-r requirements.txt (line 8)) (1.4.9)\n",
            "Requirement already satisfied: packaging>=20.0 in /usr/local/lib/python3.12/dist-packages (from matplotlib->-r requirements.txt (line 8)) (25.0)\n",
            "Requirement already satisfied: pillow>=8 in /usr/local/lib/python3.12/dist-packages (from matplotlib->-r requirements.txt (line 8)) (11.3.0)\n",
            "Requirement already satisfied: pyparsing>=2.3.1 in /usr/local/lib/python3.12/dist-packages (from matplotlib->-r requirements.txt (line 8)) (3.2.3)\n",
            "Requirement already satisfied: aiohttp>=3.10.11 in /usr/local/lib/python3.12/dist-packages (from wfdb->-r requirements.txt (line 11)) (3.12.15)\n",
            "INFO: pip is looking at multiple versions of wfdb to determine which version is compatible with other requirements. This could take a while.\n",
            "Collecting wfdb (from -r requirements.txt (line 11))\n",
            "  Downloading wfdb-4.2.0-py3-none-any.whl.metadata (3.7 kB)\n",
            "  Downloading wfdb-4.1.2-py3-none-any.whl.metadata (4.3 kB)\n",
            "Requirement already satisfied: SoundFile>=0.10.0 in /usr/local/lib/python3.12/dist-packages (from wfdb->-r requirements.txt (line 11)) (0.13.1)\n",
            "Requirement already satisfied: requests>=2.8.1 in /usr/local/lib/python3.12/dist-packages (from wfdb->-r requirements.txt (line 11)) (2.32.4)\n",
            "Requirement already satisfied: altair!=5.4.0,!=5.4.1,<6,>=4.0 in /usr/local/lib/python3.12/dist-packages (from streamlit->-r requirements.txt (line 14)) (5.5.0)\n",
            "Requirement already satisfied: blinker<2,>=1.5.0 in /usr/local/lib/python3.12/dist-packages (from streamlit->-r requirements.txt (line 14)) (1.9.0)\n",
            "Requirement already satisfied: cachetools<7,>=4.0 in /usr/local/lib/python3.12/dist-packages (from streamlit->-r requirements.txt (line 14)) (5.5.2)\n",
            "Requirement already satisfied: click<9,>=7.0 in /usr/local/lib/python3.12/dist-packages (from streamlit->-r requirements.txt (line 14)) (8.2.1)\n",
            "Requirement already satisfied: protobuf<7,>=3.20 in /usr/local/lib/python3.12/dist-packages (from streamlit->-r requirements.txt (line 14)) (5.29.5)\n",
            "Requirement already satisfied: pyarrow>=7.0 in /usr/local/lib/python3.12/dist-packages (from streamlit->-r requirements.txt (line 14)) (18.1.0)\n",
            "Requirement already satisfied: tenacity<10,>=8.1.0 in /usr/local/lib/python3.12/dist-packages (from streamlit->-r requirements.txt (line 14)) (8.5.0)\n",
            "Requirement already satisfied: toml<2,>=0.10.1 in /usr/local/lib/python3.12/dist-packages (from streamlit->-r requirements.txt (line 14)) (0.10.2)\n",
            "Requirement already satisfied: watchdog<7,>=2.1.5 in /usr/local/lib/python3.12/dist-packages (from streamlit->-r requirements.txt (line 14)) (6.0.0)\n",
            "Requirement already satisfied: gitpython!=3.1.19,<4,>=3.0.7 in /usr/local/lib/python3.12/dist-packages (from streamlit->-r requirements.txt (line 14)) (3.1.45)\n",
            "Requirement already satisfied: pydeck<1,>=0.8.0b4 in /usr/local/lib/python3.12/dist-packages (from streamlit->-r requirements.txt (line 14)) (0.9.1)\n",
            "Requirement already satisfied: tornado!=6.5.0,<7,>=6.0.3 in /usr/local/lib/python3.12/dist-packages (from streamlit->-r requirements.txt (line 14)) (6.4.2)\n",
            "Requirement already satisfied: jsonschema>=3.0 in /usr/local/lib/python3.12/dist-packages (from altair!=5.4.0,!=5.4.1,<6,>=4.0->streamlit->-r requirements.txt (line 14)) (4.25.1)\n",
            "Requirement already satisfied: narwhals>=1.14.2 in /usr/local/lib/python3.12/dist-packages (from altair!=5.4.0,!=5.4.1,<6,>=4.0->streamlit->-r requirements.txt (line 14)) (2.4.0)\n",
            "Requirement already satisfied: gitdb<5,>=4.0.1 in /usr/local/lib/python3.12/dist-packages (from gitpython!=3.1.19,<4,>=3.0.7->streamlit->-r requirements.txt (line 14)) (4.0.12)\n",
            "Requirement already satisfied: MarkupSafe>=2.0 in /usr/local/lib/python3.12/dist-packages (from jinja2->torch->-r requirements.txt (line 2)) (3.0.2)\n",
            "Requirement already satisfied: six>=1.5 in /usr/local/lib/python3.12/dist-packages (from python-dateutil>=2.8.2->pandas==2.2.2->-r requirements.txt (line 5)) (1.17.0)\n",
            "Requirement already satisfied: charset_normalizer<4,>=2 in /usr/local/lib/python3.12/dist-packages (from requests>=2.8.1->wfdb->-r requirements.txt (line 11)) (3.4.3)\n",
            "Requirement already satisfied: idna<4,>=2.5 in /usr/local/lib/python3.12/dist-packages (from requests>=2.8.1->wfdb->-r requirements.txt (line 11)) (3.10)\n",
            "Requirement already satisfied: urllib3<3,>=1.21.1 in /usr/local/lib/python3.12/dist-packages (from requests>=2.8.1->wfdb->-r requirements.txt (line 11)) (2.5.0)\n",
            "Requirement already satisfied: certifi>=2017.4.17 in /usr/local/lib/python3.12/dist-packages (from requests>=2.8.1->wfdb->-r requirements.txt (line 11)) (2025.8.3)\n",
            "Requirement already satisfied: cffi>=1.0 in /usr/local/lib/python3.12/dist-packages (from SoundFile>=0.10.0->wfdb->-r requirements.txt (line 11)) (2.0.0)\n",
            "Requirement already satisfied: mpmath<1.4,>=1.1.0 in /usr/local/lib/python3.12/dist-packages (from sympy>=1.13.3->torch->-r requirements.txt (line 2)) (1.3.0)\n",
            "Requirement already satisfied: pycparser in /usr/local/lib/python3.12/dist-packages (from cffi>=1.0->SoundFile>=0.10.0->wfdb->-r requirements.txt (line 11)) (2.23)\n",
            "Requirement already satisfied: smmap<6,>=3.0.1 in /usr/local/lib/python3.12/dist-packages (from gitdb<5,>=4.0.1->gitpython!=3.1.19,<4,>=3.0.7->streamlit->-r requirements.txt (line 14)) (5.0.2)\n",
            "Requirement already satisfied: attrs>=22.2.0 in /usr/local/lib/python3.12/dist-packages (from jsonschema>=3.0->altair!=5.4.0,!=5.4.1,<6,>=4.0->streamlit->-r requirements.txt (line 14)) (25.3.0)\n",
            "Requirement already satisfied: jsonschema-specifications>=2023.03.6 in /usr/local/lib/python3.12/dist-packages (from jsonschema>=3.0->altair!=5.4.0,!=5.4.1,<6,>=4.0->streamlit->-r requirements.txt (line 14)) (2025.9.1)\n",
            "Requirement already satisfied: referencing>=0.28.4 in /usr/local/lib/python3.12/dist-packages (from jsonschema>=3.0->altair!=5.4.0,!=5.4.1,<6,>=4.0->streamlit->-r requirements.txt (line 14)) (0.36.2)\n",
            "Requirement already satisfied: rpds-py>=0.7.1 in /usr/local/lib/python3.12/dist-packages (from jsonschema>=3.0->altair!=5.4.0,!=5.4.1,<6,>=4.0->streamlit->-r requirements.txt (line 14)) (0.27.1)\n",
            "Using cached pandas-2.2.2-cp312-cp312-manylinux_2_17_x86_64.manylinux2014_x86_64.whl (12.7 MB)\n",
            "Downloading wfdb-4.1.2-py3-none-any.whl (159 kB)\n",
            "\u001b[2K   \u001b[90m━━━━━━━━━━━━━━━━━━━━━━━━━━━━━━━━━━━━━━━━\u001b[0m \u001b[32m160.0/160.0 kB\u001b[0m \u001b[31m14.1 MB/s\u001b[0m eta \u001b[36m0:00:00\u001b[0m\n",
            "\u001b[?25h\u001b[33mWARNING: Ignoring invalid distribution ~andas (/usr/local/lib/python3.12/dist-packages)\u001b[0m\u001b[33m\n",
            "\u001b[0mInstalling collected packages: pandas, wfdb\n",
            "  Attempting uninstall: wfdb\n",
            "    Found existing installation: wfdb 4.3.0\n",
            "    Uninstalling wfdb-4.3.0:\n",
            "      Successfully uninstalled wfdb-4.3.0\n",
            "\u001b[33mWARNING: Ignoring invalid distribution ~andas (/usr/local/lib/python3.12/dist-packages)\u001b[0m\u001b[33m\n",
            "\u001b[0mSuccessfully installed pandas wfdb-4.1.2\n",
            "✅ All dependencies installed.\n"
          ]
        }
      ]
    },
    {
      "cell_type": "code",
      "source": [
        "# Cell 4: Verify the file structure\n",
        "print(\"--- Verifying Code Location ---\")\n",
        "!ls -l src/\n",
        "\n",
        "print(\"\\n--- Verifying Data Location (in Google Drive) ---\")\n",
        "# This path should point to the data you uploaded to your Drive.\n",
        "# It must match the path configured in your train.py script.\n",
        "DRIVE_DATA_PATH = '/content/drive/MyDrive/ecg_denoiser_hackathon/data'\n",
        "!ls -l {DRIVE_DATA_PATH}\n",
        "\n",
        "print(\"\\n✅ Verification complete. If you see your Python scripts and data folders, you are ready to train.\")"
      ],
      "metadata": {
        "colab": {
          "base_uri": "https://localhost:8080/"
        },
        "id": "GciMLvP9jbOV",
        "outputId": "09baea4a-14a6-4fb5-9bc5-77483ac0b691"
      },
      "execution_count": null,
      "outputs": [
        {
          "output_type": "stream",
          "name": "stdout",
          "text": [
            "--- Verifying Code Location ---\n",
            "total 24\n",
            "-rw-r--r-- 1 root root 5730 Sep 18 11:13 data_utils.py\n",
            "-rw-r--r-- 1 root root 2049 Sep 18 11:13 explore_data.py\n",
            "-rw-r--r-- 1 root root 3263 Sep 18 11:13 model.py\n",
            "-rw-r--r-- 1 root root 6686 Sep 18 11:13 train.py\n",
            "\n",
            "--- Verifying Data Location (in Google Drive) ---\n",
            "total 8\n",
            "drwx------ 2 root root 4096 Sep 18 11:03 mit-bih-arrhythmia-database-1.0.0\n",
            "drwx------ 2 root root 4096 Sep 18 11:03 mit-bih-noise-stress-test-database-1.0.0\n",
            "\n",
            "✅ Verification complete. If you see your Python scripts and data folders, you are ready to train.\n"
          ]
        }
      ]
    },
    {
      "cell_type": "code",
      "source": [
        "# Cell 5: Run the main training script\n",
        "print(\"🚀 Starting model training... This will take approximately 1 to 1.5 hours.\")\n",
        "print(\"You can monitor the progress bar below. Do not close this tab.\")\n",
        "\n",
        "!python3 src/train.py\n",
        "\n",
        "print(\"\\n🎉 Training finished!\")"
      ],
      "metadata": {
        "colab": {
          "base_uri": "https://localhost:8080/"
        },
        "id": "35aBi_HSj7Fy",
        "outputId": "56cd884d-6cf7-49ec-89d3-f8ee0408baed"
      },
      "execution_count": null,
      "outputs": [
        {
          "output_type": "stream",
          "name": "stdout",
          "text": [
            "🚀 Starting model training... This will take approximately 1 to 1.5 hours.\n",
            "You can monitor the progress bar below. Do not close this tab.\n",
            "Using device: cuda\n",
            "Initializing dataset: loading all clean record names...\n",
            "Loading all noise signals into memory...\n",
            "Loading all clean signals into memory for faster access...\n",
            "100% 48/48 [00:02<00:00, 16.47it/s]\n",
            "Dataset initialized with 48 usable clean signals.\n",
            "/content/ecg-denoiser-hackathon/src/train.py:179: FutureWarning: `torch.cuda.amp.GradScaler(args...)` is deprecated. Please use `torch.amp.GradScaler('cuda', args...)` instead.\n",
            "  scaler = torch.cuda.amp.GradScaler() # For mixed-precision training\n",
            "  0% 0/313 [00:00<?, ?it/s]/content/ecg-denoiser-hackathon/src/train.py:138: FutureWarning: `torch.cuda.amp.autocast(args...)` is deprecated. Please use `torch.amp.autocast('cuda', args...)` instead.\n",
            "  with torch.cuda.amp.autocast():\n",
            "/content/ecg-denoiser-hackathon/src/train.py:67: UserWarning: ComplexHalf support is experimental and many operators don't support it yet. (Triggered internally at /pytorch/aten/src/ATen/EmptyTensor.cpp:55.)\n",
            "  pred_fft = torch.fft.fft(prediction, dim=-1)\n",
            "100% 313/313 [00:20<00:00, 15.57it/s, loss=0.731]\n",
            "Epoch 1/50, Average Loss: 0.962257\n",
            "Model saved to /content/drive/MyDrive/ecg_denoiser_hackathon/ecg_denoiser_model.pth\n",
            "100% 313/313 [00:17<00:00, 17.67it/s, loss=0.586]\n",
            "Epoch 2/50, Average Loss: 0.613980\n",
            "Model saved to /content/drive/MyDrive/ecg_denoiser_hackathon/ecg_denoiser_model.pth\n",
            "100% 313/313 [00:18<00:00, 17.12it/s, loss=0.619]\n",
            "Epoch 3/50, Average Loss: 0.565270\n",
            "Model saved to /content/drive/MyDrive/ecg_denoiser_hackathon/ecg_denoiser_model.pth\n",
            "100% 313/313 [00:18<00:00, 16.76it/s, loss=0.512]\n",
            "Epoch 4/50, Average Loss: 0.544198\n",
            "Model saved to /content/drive/MyDrive/ecg_denoiser_hackathon/ecg_denoiser_model.pth\n",
            "100% 313/313 [00:18<00:00, 16.79it/s, loss=0.693]\n",
            "Epoch 5/50, Average Loss: 0.522489\n",
            "Model saved to /content/drive/MyDrive/ecg_denoiser_hackathon/ecg_denoiser_model.pth\n",
            "100% 313/313 [00:19<00:00, 16.36it/s, loss=0.511]\n",
            "Epoch 6/50, Average Loss: 0.513734\n",
            "Model saved to /content/drive/MyDrive/ecg_denoiser_hackathon/ecg_denoiser_model.pth\n",
            "100% 313/313 [00:19<00:00, 16.43it/s, loss=0.488]\n",
            "Epoch 7/50, Average Loss: 0.499691\n",
            "Model saved to /content/drive/MyDrive/ecg_denoiser_hackathon/ecg_denoiser_model.pth\n",
            "100% 313/313 [00:18<00:00, 16.57it/s, loss=0.444]\n",
            "Epoch 8/50, Average Loss: 0.501092\n",
            "Model saved to /content/drive/MyDrive/ecg_denoiser_hackathon/ecg_denoiser_model.pth\n",
            "100% 313/313 [00:18<00:00, 16.55it/s, loss=0.565]\n",
            "Epoch 9/50, Average Loss: 0.486953\n",
            "Model saved to /content/drive/MyDrive/ecg_denoiser_hackathon/ecg_denoiser_model.pth\n",
            "100% 313/313 [00:18<00:00, 16.48it/s, loss=0.427]\n",
            "Epoch 10/50, Average Loss: 0.484072\n",
            "Model saved to /content/drive/MyDrive/ecg_denoiser_hackathon/ecg_denoiser_model.pth\n",
            "100% 313/313 [00:19<00:00, 16.30it/s, loss=0.682]\n",
            "Epoch 11/50, Average Loss: 0.482322\n",
            "Model saved to /content/drive/MyDrive/ecg_denoiser_hackathon/ecg_denoiser_model.pth\n",
            "100% 313/313 [00:18<00:00, 16.56it/s, loss=0.443]\n",
            "Epoch 12/50, Average Loss: 0.474187\n",
            "Model saved to /content/drive/MyDrive/ecg_denoiser_hackathon/ecg_denoiser_model.pth\n",
            "100% 313/313 [00:19<00:00, 15.69it/s, loss=0.6]\n",
            "Epoch 13/50, Average Loss: 0.469857\n",
            "Model saved to /content/drive/MyDrive/ecg_denoiser_hackathon/ecg_denoiser_model.pth\n",
            "100% 313/313 [00:18<00:00, 16.57it/s, loss=0.472]\n",
            "Epoch 14/50, Average Loss: 0.462238\n",
            "Model saved to /content/drive/MyDrive/ecg_denoiser_hackathon/ecg_denoiser_model.pth\n",
            "100% 313/313 [00:19<00:00, 16.42it/s, loss=0.455]\n",
            "Epoch 15/50, Average Loss: 0.460176\n",
            "Model saved to /content/drive/MyDrive/ecg_denoiser_hackathon/ecg_denoiser_model.pth\n",
            "100% 313/313 [00:18<00:00, 16.62it/s, loss=0.488]\n",
            "Epoch 16/50, Average Loss: 0.449293\n",
            "Model saved to /content/drive/MyDrive/ecg_denoiser_hackathon/ecg_denoiser_model.pth\n",
            "100% 313/313 [00:19<00:00, 16.44it/s, loss=0.874]\n",
            "Epoch 17/50, Average Loss: 0.454906\n",
            "Model saved to /content/drive/MyDrive/ecg_denoiser_hackathon/ecg_denoiser_model.pth\n",
            "100% 313/313 [00:18<00:00, 16.55it/s, loss=0.564]\n",
            "Epoch 18/50, Average Loss: 0.449850\n",
            "Model saved to /content/drive/MyDrive/ecg_denoiser_hackathon/ecg_denoiser_model.pth\n",
            "100% 313/313 [00:18<00:00, 16.49it/s, loss=0.359]\n",
            "Epoch 19/50, Average Loss: 0.441434\n",
            "Model saved to /content/drive/MyDrive/ecg_denoiser_hackathon/ecg_denoiser_model.pth\n",
            "100% 313/313 [00:19<00:00, 16.39it/s, loss=0.601]\n",
            "Epoch 20/50, Average Loss: 0.437411\n",
            "Model saved to /content/drive/MyDrive/ecg_denoiser_hackathon/ecg_denoiser_model.pth\n",
            "100% 313/313 [00:18<00:00, 16.56it/s, loss=0.397]\n",
            "Epoch 21/50, Average Loss: 0.437752\n",
            "Model saved to /content/drive/MyDrive/ecg_denoiser_hackathon/ecg_denoiser_model.pth\n",
            "100% 313/313 [00:19<00:00, 16.45it/s, loss=0.408]\n",
            "Epoch 22/50, Average Loss: 0.431688\n",
            "Model saved to /content/drive/MyDrive/ecg_denoiser_hackathon/ecg_denoiser_model.pth\n",
            "100% 313/313 [00:18<00:00, 16.60it/s, loss=0.632]\n",
            "Epoch 23/50, Average Loss: 0.428108\n",
            "Model saved to /content/drive/MyDrive/ecg_denoiser_hackathon/ecg_denoiser_model.pth\n",
            "100% 313/313 [00:19<00:00, 16.46it/s, loss=0.404]\n",
            "Epoch 24/50, Average Loss: 0.431219\n",
            "Model saved to /content/drive/MyDrive/ecg_denoiser_hackathon/ecg_denoiser_model.pth\n",
            "100% 313/313 [00:18<00:00, 16.54it/s, loss=0.49]\n",
            "Epoch 25/50, Average Loss: 0.423784\n",
            "Model saved to /content/drive/MyDrive/ecg_denoiser_hackathon/ecg_denoiser_model.pth\n",
            "100% 313/313 [00:19<00:00, 16.43it/s, loss=0.394]\n",
            "Epoch 26/50, Average Loss: 0.420400\n",
            "Model saved to /content/drive/MyDrive/ecg_denoiser_hackathon/ecg_denoiser_model.pth\n",
            "100% 313/313 [00:19<00:00, 16.47it/s, loss=0.59]\n",
            "Epoch 27/50, Average Loss: 0.415263\n",
            "Model saved to /content/drive/MyDrive/ecg_denoiser_hackathon/ecg_denoiser_model.pth\n",
            "100% 313/313 [00:19<00:00, 16.46it/s, loss=0.505]\n",
            "Epoch 28/50, Average Loss: 0.409653\n",
            "Model saved to /content/drive/MyDrive/ecg_denoiser_hackathon/ecg_denoiser_model.pth\n",
            "100% 313/313 [00:18<00:00, 16.49it/s, loss=0.419]\n",
            "Epoch 29/50, Average Loss: 0.409602\n",
            "Model saved to /content/drive/MyDrive/ecg_denoiser_hackathon/ecg_denoiser_model.pth\n",
            "100% 313/313 [00:18<00:00, 16.50it/s, loss=0.422]\n",
            "Epoch 30/50, Average Loss: 0.407024\n",
            "Model saved to /content/drive/MyDrive/ecg_denoiser_hackathon/ecg_denoiser_model.pth\n",
            "100% 313/313 [00:19<00:00, 16.36it/s, loss=0.412]\n",
            "Epoch 31/50, Average Loss: 0.407286\n",
            "Model saved to /content/drive/MyDrive/ecg_denoiser_hackathon/ecg_denoiser_model.pth\n",
            "100% 313/313 [00:18<00:00, 16.56it/s, loss=0.421]\n",
            "Epoch 32/50, Average Loss: 0.397463\n",
            "Model saved to /content/drive/MyDrive/ecg_denoiser_hackathon/ecg_denoiser_model.pth\n",
            "100% 313/313 [00:19<00:00, 16.40it/s, loss=0.371]\n",
            "Epoch 33/50, Average Loss: 0.393541\n",
            "Model saved to /content/drive/MyDrive/ecg_denoiser_hackathon/ecg_denoiser_model.pth\n",
            "100% 313/313 [00:18<00:00, 16.55it/s, loss=0.469]\n",
            "Epoch 34/50, Average Loss: 0.398643\n",
            "Model saved to /content/drive/MyDrive/ecg_denoiser_hackathon/ecg_denoiser_model.pth\n",
            "100% 313/313 [00:19<00:00, 16.46it/s, loss=0.382]\n",
            "Epoch 35/50, Average Loss: 0.393819\n",
            "Model saved to /content/drive/MyDrive/ecg_denoiser_hackathon/ecg_denoiser_model.pth\n",
            "100% 313/313 [00:18<00:00, 16.51it/s, loss=0.364]\n",
            "Epoch 36/50, Average Loss: 0.399569\n",
            "Model saved to /content/drive/MyDrive/ecg_denoiser_hackathon/ecg_denoiser_model.pth\n",
            "100% 313/313 [00:18<00:00, 16.48it/s, loss=0.416]\n",
            "Epoch 37/50, Average Loss: 0.391608\n",
            "Model saved to /content/drive/MyDrive/ecg_denoiser_hackathon/ecg_denoiser_model.pth\n",
            "100% 313/313 [00:19<00:00, 16.47it/s, loss=0.438]\n",
            "Epoch 38/50, Average Loss: 0.385175\n",
            "Model saved to /content/drive/MyDrive/ecg_denoiser_hackathon/ecg_denoiser_model.pth\n",
            "100% 313/313 [00:19<00:00, 16.45it/s, loss=0.345]\n",
            "Epoch 39/50, Average Loss: 0.388397\n",
            "Model saved to /content/drive/MyDrive/ecg_denoiser_hackathon/ecg_denoiser_model.pth\n",
            "100% 313/313 [00:19<00:00, 16.34it/s, loss=0.314]\n",
            "Epoch 40/50, Average Loss: 0.387366\n",
            "Model saved to /content/drive/MyDrive/ecg_denoiser_hackathon/ecg_denoiser_model.pth\n",
            "100% 313/313 [00:18<00:00, 16.58it/s, loss=0.503]\n",
            "Epoch 41/50, Average Loss: 0.389189\n",
            "Model saved to /content/drive/MyDrive/ecg_denoiser_hackathon/ecg_denoiser_model.pth\n",
            "100% 313/313 [00:19<00:00, 16.43it/s, loss=0.363]\n",
            "Epoch 42/50, Average Loss: 0.387601\n",
            "Model saved to /content/drive/MyDrive/ecg_denoiser_hackathon/ecg_denoiser_model.pth\n",
            "100% 313/313 [00:18<00:00, 16.49it/s, loss=0.533]\n",
            "Epoch 43/50, Average Loss: 0.386625\n",
            "Model saved to /content/drive/MyDrive/ecg_denoiser_hackathon/ecg_denoiser_model.pth\n",
            "100% 313/313 [00:19<00:00, 16.44it/s, loss=0.276]\n",
            "Epoch 44/50, Average Loss: 0.386531\n",
            "Model saved to /content/drive/MyDrive/ecg_denoiser_hackathon/ecg_denoiser_model.pth\n",
            "100% 313/313 [00:18<00:00, 16.57it/s, loss=0.391]\n",
            "Epoch 45/50, Average Loss: 0.386891\n",
            "Model saved to /content/drive/MyDrive/ecg_denoiser_hackathon/ecg_denoiser_model.pth\n",
            "100% 313/313 [00:18<00:00, 16.51it/s, loss=0.476]\n",
            "Epoch 46/50, Average Loss: 0.379029\n",
            "Model saved to /content/drive/MyDrive/ecg_denoiser_hackathon/ecg_denoiser_model.pth\n",
            "100% 313/313 [00:19<00:00, 16.43it/s, loss=0.366]\n",
            "Epoch 47/50, Average Loss: 0.377667\n",
            "Model saved to /content/drive/MyDrive/ecg_denoiser_hackathon/ecg_denoiser_model.pth\n",
            "100% 313/313 [00:18<00:00, 16.52it/s, loss=0.354]\n",
            "Epoch 48/50, Average Loss: 0.376362\n",
            "Model saved to /content/drive/MyDrive/ecg_denoiser_hackathon/ecg_denoiser_model.pth\n",
            "100% 313/313 [00:19<00:00, 16.32it/s, loss=0.461]\n",
            "Epoch 49/50, Average Loss: 0.373993\n",
            "Model saved to /content/drive/MyDrive/ecg_denoiser_hackathon/ecg_denoiser_model.pth\n",
            "100% 313/313 [00:18<00:00, 16.54it/s, loss=0.316]\n",
            "Epoch 50/50, Average Loss: 0.375296\n",
            "Model saved to /content/drive/MyDrive/ecg_denoiser_hackathon/ecg_denoiser_model.pth\n",
            "\n",
            "🎉 Training finished!\n"
          ]
        }
      ]
    }
  ]
}